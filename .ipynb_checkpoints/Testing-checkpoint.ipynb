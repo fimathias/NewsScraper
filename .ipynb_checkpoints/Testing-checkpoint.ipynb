{
 "cells": [
  {
   "cell_type": "markdown",
   "id": "be22f110",
   "metadata": {},
   "source": [
    "# Gathering Data"
   ]
  },
  {
   "cell_type": "code",
   "execution_count": 23,
   "id": "57f6b2dc",
   "metadata": {
    "scrolled": true
   },
   "outputs": [
    {
     "name": "stderr",
     "output_type": "stream",
     "text": [
      "[nltk_data] Downloading package stopwords to\n",
      "[nltk_data]     C:\\Users\\mathi\\AppData\\Roaming\\nltk_data...\n",
      "[nltk_data]   Package stopwords is already up-to-date!\n",
      "[nltk_data] Downloading package omw-1.4 to\n",
      "[nltk_data]     C:\\Users\\mathi\\AppData\\Roaming\\nltk_data...\n",
      "[nltk_data]   Package omw-1.4 is already up-to-date!\n",
      "[nltk_data] Downloading package wordnet to\n",
      "[nltk_data]     C:\\Users\\mathi\\AppData\\Roaming\\nltk_data...\n",
      "[nltk_data]   Package wordnet is already up-to-date!\n"
     ]
    },
    {
     "data": {
      "text/plain": [
       "True"
      ]
     },
     "execution_count": 23,
     "metadata": {},
     "output_type": "execute_result"
    }
   ],
   "source": [
    "# Import and download everything required for the code\n",
    "\n",
    "import requests\n",
    "import nltk\n",
    "import matplotlib.pyplot as plt\n",
    "import re\n",
    "from nltk.probability import FreqDist\n",
    "from nltk.stem.wordnet import WordNetLemmatizer\n",
    "from nltk.corpus import stopwords\n",
    "%matplotlib inline\n",
    "from bs4 import BeautifulSoup as soup\n",
    "nltk.download('stopwords')\n",
    "nltk.download('omw-1.4')\n",
    "nltk.download('wordnet')"
   ]
  },
  {
   "cell_type": "code",
   "execution_count": 24,
   "id": "2422c557",
   "metadata": {},
   "outputs": [],
   "source": [
    "# Function for getting words\n",
    "def collect_news(url, tag):\n",
    "    html = requests.get(url)\n",
    "    bsobj = soup(html.content,'lxml')\n",
    "\n",
    "    # Initialize empty list for headlines and words\n",
    "    headlines = []\n",
    "    words = []\n",
    "    \n",
    "    for headline in bsobj.findAll(tag):\n",
    "        if len(headline.text) >= 5:\n",
    "            headlines.append(headline.text)\n",
    "            \n",
    "    # Filter into list with words\n",
    "    words = [word for headline in headlines for word in headline.split(\" \")]\n",
    "    \n",
    "    return words"
   ]
  },
  {
   "cell_type": "code",
   "execution_count": 27,
   "id": "6fdac958",
   "metadata": {
    "scrolled": true
   },
   "outputs": [],
   "source": [
    "# TESTING\n",
    "\n",
    "bsobj = soup(requests.get(\"https://abcnews.go.com/\").content,'lxml')\n",
    "#print(bsobj.findAll(\"h3\"))"
   ]
  },
  {
   "cell_type": "code",
   "execution_count": 39,
   "id": "09ef4782",
   "metadata": {},
   "outputs": [],
   "source": [
    "# Here are the sites we want to search plus the tag for the headline\n",
    "sites = [\"https://edition.cnn.com/world\", \"https://abcnews.go.com/\", \"https://www.bbc.com/news\"]\n",
    "tags = [\"span\", \"h1\", \"h2\", \"h3\", \"h4\", \"a\", \"p\"]"
   ]
  },
  {
   "cell_type": "code",
   "execution_count": 30,
   "id": "bf493839",
   "metadata": {},
   "outputs": [],
   "source": [
    "# Looping through the sites and adding words to a list\n",
    "words = []\n",
    "\n",
    "for i in sites:\n",
    "    for j in tags:\n",
    "        words.append(collect_news(i, j))\n",
    "                     \n",
    "# Flatten list\n",
    "words = [x for row in words for x in row]\n"
   ]
  },
  {
   "cell_type": "code",
   "execution_count": 35,
   "id": "0a9073e4",
   "metadata": {},
   "outputs": [],
   "source": [
    "# Remove stop words\n",
    "stop_words = stopwords.words('english')\n",
    "\n",
    "def remove_stop_words(tokenized_text, stop_words):\n",
    "    clean_text = []\n",
    "  \n",
    "    for token in tokenized_text:  \n",
    "        if token not in stop_words and token != \"\":  \n",
    "            clean_text.append(token)  \n",
    "    \n",
    "    return clean_text\n",
    "\n",
    "clean_words = remove_stop_words(words, stop_words)\n",
    "\n",
    "# Still contains punctuation etc.\n",
    "for i in range(len(words)):\n",
    "    words[i] = re.sub(\"[^A-Za-z0-9]\", \"\", words[i])\n",
    "    words[i] = words[i].lower()"
   ]
  },
  {
   "cell_type": "code",
   "execution_count": 36,
   "id": "c1d75467",
   "metadata": {},
   "outputs": [],
   "source": [
    "# Lemmatization\n",
    "lem = WordNetLemmatizer()\n",
    "lemmatized_words = [lem.lemmatize(word) for word in clean_words]"
   ]
  },
  {
   "cell_type": "markdown",
   "id": "2c70bef8",
   "metadata": {},
   "source": [
    "# Analysis"
   ]
  },
  {
   "cell_type": "code",
   "execution_count": 41,
   "id": "5cf0120e",
   "metadata": {
    "scrolled": true
   },
   "outputs": [],
   "source": [
    "fdist_lemmatized = FreqDist(lemmatized_words)\n",
    "\n",
    "#print(len(fdist_lemmatized.most_common()))\n",
    "#fdist_lemmatized.most_common()"
   ]
  },
  {
   "cell_type": "code",
   "execution_count": 42,
   "id": "05184661",
   "metadata": {},
   "outputs": [
    {
     "data": {
      "image/png": "[encoded data removed]",
      "text/plain": [
       "<Figure size 432x288 with 1 Axes>"
      ]
     },
     "metadata": {
      "needs_background": "light"
     },
     "output_type": "display_data"
    }
   ],
   "source": [
    "fdist_lemmatized.plot(30, cumulative=False)\n",
    "plt.show()"
   ]
  },
  {
   "cell_type": "code",
   "execution_count": null,
   "id": "4249f75a",
   "metadata": {},
   "outputs": [],
   "source": []
  }
 ],
 "metadata": {
  "kernelspec": {
   "display_name": "Python 3",
   "language": "python",
   "name": "python3"
  },
  "language_info": {
   "codemirror_mode": {
    "name": "ipython",
    "version": 3
   },
   "file_extension": ".py",
   "mimetype": "text/x-python",
   "name": "python",
   "nbconvert_exporter": "python",
   "pygments_lexer": "ipython3",
   "version": "3.8.8"
  }
 },
 "nbformat": 4,
 "nbformat_minor": 5
}
